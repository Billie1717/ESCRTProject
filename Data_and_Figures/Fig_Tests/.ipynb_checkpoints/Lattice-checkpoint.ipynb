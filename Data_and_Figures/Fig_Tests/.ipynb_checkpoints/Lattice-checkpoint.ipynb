{
 "cells": [
  {
   "cell_type": "code",
   "execution_count": 13,
   "metadata": {},
   "outputs": [
    {
     "name": "stdout",
     "output_type": "stream",
     "text": [
      "The autoreload extension is already loaded. To reload it, use:\n",
      "  %reload_ext autoreload\n"
     ]
    }
   ],
   "source": [
    "%load_ext autoreload\n",
    "%autoreload 2\n",
    "\n",
    "#import sys\n",
    "#sys.path.append(\"..\")\n",
    "import pandas\n",
    "import numpy as np\n",
    "import matplotlib.pyplot as plt\n",
    "import warnings\n",
    "warnings.filterwarnings(\"ignore\")\n",
    "datadir = '/Users/billiemeadowcroft/Dropbox/PhDGithub/RemoteESCRT/Data_and_Figures/Fig_Tests/Data/'\n",
    "plotsdir = '/Users/billiemeadowcroft/Dropbox/PhDGithub/RemoteESCRT/Data_and_Figures/Fig_Tests/Plots/'"
   ]
  },
  {
   "cell_type": "code",
   "execution_count": 19,
   "metadata": {},
   "outputs": [
    {
     "data": {
      "image/png": "[encoded data removed]",
      "text/plain": [
       "<Figure size 360x288 with 1 Axes>"
      ]
     },
     "metadata": {
      "needs_background": "light"
     },
     "output_type": "display_data"
    }
   ],
   "source": [
    "N = 84 #42, 210\n",
    "\n",
    "loc = datadir +'Lattice'\n",
    "P0 = pandas.read_csv(loc +str(N)+ \"Prob0.txt\", header = None)[0]\n",
    "P1 = pandas.read_csv(loc + str(N)+ \"Prob1.txt\", header = None,  usecols= [0])[0]\n",
    "P2 = pandas.read_csv(loc + str(N)+ \"Prob2.txt\", header = None, usecols= [0])[0]\n",
    "fig1, ax1 = plt.subplots(1, figsize = (5,4))\n",
    "ax1.plot(100*P0[0:5000]/N,color = \"#53a8c9\",linewidth=3.0, label = \"Monomer 0\")\n",
    "ax1.plot(100*P1[0:5000]/N,color = \"#7e6ca8\",linewidth=3.0,label = \"Monomer 1\")\n",
    "ax1.plot(100*P2[0:5000]/N,color = \"#dd6fb6\",linewidth=3.0,label = \"Monomer 2\")\n",
    "\n",
    "ax1.set_xlabel(r\"time\", size = 17)\n",
    "#ax1.set_ylabel(\"% lattice coverage\", size = 17)\n",
    "#ax1.legend(loc = [0.5,0.4],frameon=False, fontsize = 12)\n",
    "\n",
    "n = 2  # Keeps every 2nd label\n",
    "[l.set_visible(False) for (i,l) in enumerate(ax1.xaxis.get_ticklabels()) if i % n != 0]\n",
    "[l.set_visible(False) for (i,l) in enumerate(ax1.yaxis.get_ticklabels()) if i % n != 0]\n",
    "\n",
    "textstr = ((r'$L$ = '+str(N)))\n",
    "\n",
    "ax1.text(0.02, 0.97, textstr, transform=ax1.transAxes, fontsize=16,verticalalignment='top')\n",
    "\n",
    "plt.xticks([0,1000,2000,3000,4000,5000],[\"0\",\"1\",\"2\",\"3\",\"4\",\"5\"], size = 15)\n",
    "#plt.yticks([0,25,50,75,100],size = 15)\n",
    "plt.yticks([0,25,50,75,100], [\"\",\"\",\"\",\"\",\"\",])\n",
    "plt.gcf().subplots_adjust(left=0.18)\n",
    "plt.gcf().subplots_adjust(bottom=0.18)\n",
    "plt.show()\n",
    "\n",
    "fname  = 'Lattice'+str(N)+'.pdf'\n",
    "fig1.savefig(plotsdir+fname)"
   ]
  },
  {
   "cell_type": "markdown",
   "metadata": {},
   "source": [
    "## Energy Packet and rigidity"
   ]
  },
  {
   "cell_type": "code",
   "execution_count": 15,
   "metadata": {},
   "outputs": [],
   "source": [
    "def DoS(Maxof0,Maxof1,Maxof2,LastProb0,LastProb1,LastProb2,P1t0,P2t0,P0t1,P2t1,Kd1s,Kd2s):\n",
    "   #Defining our DoS parameter\n",
    "    thing1 = np.add(np.divide(P1t0,Maxof0), np.divide(P2t0,Maxof0))\n",
    "    thing2 = np.add(np.divide(P0t1,Maxof1),np.divide(P2t1,Maxof1))\n",
    "    firstT = np.add(thing1,thing2)\n",
    "    secondT = np.add(np.divide(LastProb0,Maxof0),np.divide(LastProb1,Maxof1))*4\n",
    "    thing4 = np.add(np.divide(Maxof0,Maxof2),np.divide(Maxof1,Maxof2))\n",
    "    thirdT = (2)*abs(np.add(2,-thing4))\n",
    "    fourthT = np.add(1,-np.divide(LastProb2,Maxof2))\n",
    "    thing5add4 = np.add(fourthT,thirdT)\n",
    "    lastTs = np.add(thing5add4,secondT)\n",
    "    DoS_ = (1/10)*(np.add(firstT,lastTs))\n",
    "    \n",
    "    DoS = np.divide(1,DoS_)\n",
    "    DoS_arr= DoS.values.reshape(Kd1s,Kd2s)\n",
    "    \n",
    "    return DoS_arr/(2)\n",
    "\n",
    "loc = datadir +'LatticeCharCrv'\n",
    "#loc = datadir\n",
    "n1 = 1\n",
    "k1= 5\n",
    "k2= 1\n",
    "Maxof0_ = pandas.read_csv(loc + \".txt\", header = None, sep=',', usecols= [0])#.lstrip('(')#.rstrip(']')\n",
    "Maxof0__ = np.zeros(n1)\n",
    "for i in range(n1):\n",
    "    Maxof0__[i] = Maxof0_[0][i].lstrip('(')\n",
    "Maxof0 = Maxof0__\n",
    "Maxof1 = pandas.read_csv(loc + \".txt\", header = None, sep=',', usecols= [1])\n",
    "Maxof2 = pandas.read_csv(loc + \".txt\", header = None, sep=',', usecols= [2])\n",
    "LastProb0 = pandas.read_csv(loc + \".txt\", header = None, sep=',', usecols= [3])\n",
    "LastProb1 = pandas.read_csv(loc + \".txt\", header = None, sep=',', usecols= [4])\n",
    "LastProb2 = pandas.read_csv(loc + \".txt\", header = None, sep=',', usecols= [5])\n",
    "P1t0 = pandas.read_csv(loc + \".txt\", header = None, sep=',', usecols= [6])\n",
    "P2t0 = pandas.read_csv(loc + \".txt\", header = None, sep=',', usecols= [7])\n",
    "P0t1 = pandas.read_csv(loc + \".txt\", header = None, sep=',', usecols= [8])\n",
    "P2t1_ = pandas.read_csv(loc + \".txt\", header = None, sep=',', usecols= [9])\n",
    "P2t1__ = np.zeros(n1)\n",
    "for j in range(n1):\n",
    "    P2t1__[j] = P2t1_[9][j].rstrip(') ')\n",
    "P2t1 = P2t1__.reshape(n1,1)\n",
    "Maxof0 = Maxof0__.reshape(n1,1)\n",
    "\n",
    "DoS = DoS(Maxof0,Maxof1,Maxof2,LastProb0,LastProb1,LastProb2,P1t0,P2t0,P0t1,P2t1,k1,k2)\n",
    "\n",
    "Arr2=DoS\n",
    "\n",
    "ad12 = np.add(LastProb1,LastProb2)\n",
    "adall = np.add(ad12,LastProb0)\n",
    "Indent2 =np.multiply(LastProb2,2.0) \n",
    "p_ = np.add(LastProb1,Indent2)\n",
    "p = np.divide(p_,adall)\n",
    "P_Arr= p.values.reshape(k1,k2)"
   ]
  },
  {
   "cell_type": "code",
   "execution_count": 16,
   "metadata": {},
   "outputs": [
    {
     "name": "stdout",
     "output_type": "stream",
     "text": [
      "[[1.01462663]\n",
      " [1.11023555]\n",
      " [1.076435  ]\n",
      " [1.08861261]\n",
      " [1.05418373]]\n"
     ]
    },
    {
     "data": {
      "image/png": "[encoded data removed]",
      "text/plain": [
       "<Figure size 360x288 with 1 Axes>"
      ]
     },
     "metadata": {
      "needs_background": "light"
     },
     "output_type": "display_data"
    }
   ],
   "source": [
    "fig,ax = plt.subplots(figsize = (5,4))\n",
    "X2 = [42,84,126,168,210]\n",
    "p2=Arr2\n",
    "colors=['teal','palevioletred','slategrey']\n",
    "colors=['#00b7ba', '#00789c','#00397e']\n",
    "print(Arr2)\n",
    "ax.plot(X2, p2, 'd-',color = colors[0], linewidth = 2, label = 'Same parameters')\n",
    "ax.set_xlabel(r\"Lattice length $L$\", fontsize = 15) \n",
    "ax.set_ylabel(\"DoS\", fontsize = 15) \n",
    "ax.set_xticks(X2) #,\"126\",\"168\",\"210\"])\n",
    "ax.set_xticklabels([\"42\",\"84\",\"126\",\"168\",\"210\"]) #,\"126\",\"168\",\"210\"])\n",
    "n = 1  # Keeps every 2nd label\n",
    "[l.set_visible(False) for (i,l) in enumerate(ax.yaxis.get_ticklabels()) if i % n != 0]\n",
    "\n",
    "shadecolors=['gold','darkorange']\n",
    "shadecolors=['lightcoral','firebrick']\n",
    "shadecolors=['hotpink','deeppink']\n",
    "\n",
    "ax.set_ylim(-0.05,1.2)\n",
    "\n",
    "fname  = 'DoSLattice.pdf'\n",
    "fig.savefig('Plots/'+fname)"
   ]
  },
  {
   "cell_type": "code",
   "execution_count": null,
   "metadata": {},
   "outputs": [],
   "source": []
  }
 ],
 "metadata": {
  "kernelspec": {
   "display_name": "Python 3",
   "language": "python",
   "name": "python3"
  },
  "language_info": {
   "codemirror_mode": {
    "name": "ipython",
    "version": 3
   },
   "file_extension": ".py",
   "mimetype": "text/x-python",
   "name": "python",
   "nbconvert_exporter": "python",
   "pygments_lexer": "ipython3",
   "version": "3.8.5"
  }
 },
 "nbformat": 4,
 "nbformat_minor": 4
}
