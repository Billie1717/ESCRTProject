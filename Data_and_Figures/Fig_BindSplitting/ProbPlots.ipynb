{
 "cells": [
  {
   "cell_type": "code",
   "execution_count": 7,
   "metadata": {},
   "outputs": [
    {
     "name": "stdout",
     "output_type": "stream",
     "text": [
      "The autoreload extension is already loaded. To reload it, use:\n",
      "  %reload_ext autoreload\n"
     ]
    }
   ],
   "source": [
    "%load_ext autoreload\n",
    "%autoreload 2\n",
    "\n",
    "import sys\n",
    "sys.path.append(\"..\")\n",
    "import pandas\n",
    "import numpy as np\n",
    "import matplotlib.pyplot as plt\n",
    "datadir = '/Users/billiemeadowcroft/Dropbox/PhDGithub/RemoteESCRT/Data_and_Figures/Fig_BindSplitting/Data/'\n",
    "datadir2 = '/Users/billiemeadowcroft/Dropbox/PhDGithub/RemoteESCRT/Data_and_Figures/Fig_Arrows/Data/ModelData/'\n",
    "\n",
    "#datadir = '/Users/billiemeadowcroft/Documents/PHD/ESCRT_Proj1/Curvy_model/GitPlots/MechanoChemDataAndPlotting/SIplots/'"
   ]
  },
  {
   "cell_type": "markdown",
   "metadata": {},
   "source": [
    "# Plotting individual prob curves sequence"
   ]
  },
  {
   "cell_type": "code",
   "execution_count": 8,
   "metadata": {},
   "outputs": [
    {
     "data": {
      "image/png": "[encoded data removed]",
      "text/plain": [
       "<Figure size 360x288 with 1 Axes>"
      ]
     },
     "metadata": {
      "needs_background": "light"
     },
     "output_type": "display_data"
    }
   ],
   "source": [
    "loc = datadir2\n",
    "P0 = pandas.read_csv(loc + \"Arrows_dProb0.txt\", header = None)[0]\n",
    "P1 = pandas.read_csv(loc + \"Arrows_dProb1.txt\", header = None,  usecols= [0])[0]\n",
    "P2 = pandas.read_csv(loc + \"Arrows_dProb2.txt\", header = None, usecols= [0])[0]\n",
    "#loc = datadir\n",
    "#P0 = pandas.read_csv(loc + \"BindSplitSquareProb0.txt\", header = None)[0]\n",
    "#P1 = pandas.read_csv(loc + \"BindSplitSquareProb1.txt\", header = None,  usecols= [0])[0]\n",
    "#P2 = pandas.read_csv(loc + \"BindSplitSquareProb2.txt\", header = None, usecols= [0])[0]\n",
    "N=42\n",
    "fig1, ax1 = plt.subplots(1, figsize = (5,4))\n",
    "ax1.plot(100*P0[0:5000]/N,color = \"skyblue\",linewidth=3.0, label = \"Monomer 0\")\n",
    "ax1.plot(100*P1[0:5000]/N,color = \"mediumpurple\",linewidth=3.0,label = \"Monomer 1\")\n",
    "ax1.plot(100*P2[0:5000]/N,color = \"plum\",linewidth=3.0,label = \"Monomer 2\")\n",
    "ax1.set_xlabel(r\"time\", size = 17)\n",
    "ax1.set_ylabel(\"% lattice coverage\", size = 22)\n",
    "#ax1.legend(frameon=False)\n",
    "\n",
    "n = 2  # Keeps every 2nd label\n",
    "[l.set_visible(False) for (i,l) in enumerate(ax1.xaxis.get_ticklabels()) if i % n != 0]\n",
    "#[l.set_visible(False) for (i,l) in enumerate(ax1.yaxis.get_ticklabels()) if i % n != 0]\n",
    "\n",
    "textstr = '\\n'.join((\n",
    "    r'DoS = 1.0', ))\n",
    "\n",
    "ax1.text(0.05, 0.9, textstr, transform=ax1.transAxes, fontsize=20,verticalalignment='top')\n",
    "\n",
    "plt.xticks([0,1000,2000,3000,4000,5000],[\"0\",\"1\",\"2\",\"3\",\"4\",\"5\"], size = 15)\n",
    "plt.yticks([0,50,100],[\"0\",\"50\",\"100\"], size = 17)\n",
    "#plt.yticks([])\n",
    "plt.ylim([0,100])\n",
    "plt.gcf().subplots_adjust(left=0.18)\n",
    "plt.gcf().subplots_adjust(bottom=0.18)\n",
    "plt.show()\n",
    "\n",
    "#fname  = 'Test1.pdf'\n",
    "fname  = 'ProbStar_axis.pdf'\n",
    "#fig1.savefig('Plots/'+fname)"
   ]
  },
  {
   "cell_type": "markdown",
   "metadata": {},
   "source": [
    "# Plotting curves: Identical filaments"
   ]
  },
  {
   "cell_type": "code",
   "execution_count": null,
   "metadata": {},
   "outputs": [],
   "source": []
  },
  {
   "cell_type": "code",
   "execution_count": null,
   "metadata": {},
   "outputs": [],
   "source": []
  },
  {
   "cell_type": "code",
   "execution_count": null,
   "metadata": {},
   "outputs": [],
   "source": []
  }
 ],
 "metadata": {
  "kernelspec": {
   "display_name": "Python 3",
   "language": "python",
   "name": "python3"
  },
  "language_info": {
   "codemirror_mode": {
    "name": "ipython",
    "version": 3
   },
   "file_extension": ".py",
   "mimetype": "text/x-python",
   "name": "python",
   "nbconvert_exporter": "python",
   "pygments_lexer": "ipython3",
   "version": "3.8.5"
  }
 },
 "nbformat": 4,
 "nbformat_minor": 4
}
