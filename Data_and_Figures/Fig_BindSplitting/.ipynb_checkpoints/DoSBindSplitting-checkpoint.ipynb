{
 "cells": [
  {
   "cell_type": "code",
   "execution_count": 1,
   "metadata": {},
   "outputs": [],
   "source": [
    "%load_ext autoreload\n",
    "%autoreload 2\n",
    "\n",
    "import sys\n",
    "sys.path.append(\"..\")\n",
    "import pandas\n",
    "import numpy as np\n",
    "import matplotlib.pyplot as plt\n",
    "from matplotlib.ticker import FormatStrFormatter\n",
    "from matplotlib.colors import LogNorm\n",
    "\n",
    "datadir = '/Users/billiemeadowcroft/Dropbox/PhDGithub/RemoteESCRT/Data_and_Figures/Fig_BindSplitting/Data/'\n"
   ]
  },
  {
   "cell_type": "code",
   "execution_count": 2,
   "metadata": {},
   "outputs": [],
   "source": [
    "def DoS(Maxof0,Maxof1,Maxof2,LastProb0,LastProb1,LastProb2,P1t0,P2t0,P0t1,P2t1):\n",
    "    #Defining our DoS parameter\n",
    "    thing1 = np.add(np.divide(P1t0,Maxof0), np.divide(P2t0,Maxof0))\n",
    "    thing2 = np.add(np.divide(P0t1,Maxof1),np.divide(P2t1,Maxof1))\n",
    "    firstT = np.add(thing1,thing2)\n",
    "    thing3 = 2*np.add(np.divide(LastProb0,Maxof0),np.divide(LastProb1,Maxof1))\n",
    "    thing4 = np.add(np.divide(Maxof0,Maxof2),np.divide(Maxof1,Maxof2))\n",
    "    thing4alt = (1/2)*abs(np.add(2,-thing4))\n",
    "    thing5 = np.add(1,-np.divide(LastProb2,Maxof2))\n",
    "    thing5add4 = np.add(thing5,thing4alt)\n",
    "    lastT = np.add(thing5add4,thing3)\n",
    "    DoS_ = (1/10)*(np.add(firstT,lastT))\n",
    "    DoS = np.divide(1,DoS_)\n",
    "    \n",
    "    return DoS/2.2"
   ]
  },
  {
   "cell_type": "markdown",
   "metadata": {},
   "source": [
    "## Plotting Dissociation rate rule"
   ]
  },
  {
   "cell_type": "markdown",
   "metadata": {},
   "source": [
    "*reading, reshaping and defining data*"
   ]
  },
  {
   "cell_type": "code",
   "execution_count": 3,
   "metadata": {},
   "outputs": [
    {
     "name": "stdout",
     "output_type": "stream",
     "text": [
      "(19,)\n"
     ]
    },
    {
     "data": {
      "image/png": "[encoded data removed]",
      "text/plain": [
       "<Figure size 432x288 with 1 Axes>"
      ]
     },
     "metadata": {
      "needs_background": "light"
     },
     "output_type": "display_data"
    }
   ],
   "source": [
    "loc = datadir +'BindSplit2_CharCrv'\n",
    "\n",
    "n1 = 20\n",
    "\n",
    "Maxof0_ = pandas.read_csv(loc + \".txt\", header = None, sep=',', usecols= [0])#.lstrip('(')#.rstrip(']')\n",
    "Maxof0__ = np.zeros(n1)\n",
    "for i in range(n1):\n",
    "    Maxof0__[i] = Maxof0_[0][i].lstrip('(')\n",
    "Maxof0 = Maxof0__\n",
    "Maxof1 = pandas.read_csv(loc + \".txt\", header = None, sep=',', usecols= [1])\n",
    "Maxof2 = pandas.read_csv(loc + \".txt\", header = None, sep=',', usecols= [2])\n",
    "LastProb0 = pandas.read_csv(loc + \".txt\", header = None, sep=',', usecols= [3])\n",
    "LastProb1 = pandas.read_csv(loc + \".txt\", header = None, sep=',', usecols= [4])\n",
    "LastProb2 = pandas.read_csv(loc + \".txt\", header = None, sep=',', usecols= [5])\n",
    "P1t0 = pandas.read_csv(loc + \".txt\", header = None, sep=',', usecols= [6])\n",
    "P2t0 = pandas.read_csv(loc + \".txt\", header = None, sep=',', usecols= [7])\n",
    "P0t1 = pandas.read_csv(loc + \".txt\", header = None, sep=',', usecols= [8])\n",
    "P2t1_ = pandas.read_csv(loc + \".txt\", header = None, sep=',', usecols= [9])\n",
    "P2t1__ = np.zeros(n1)\n",
    "for j in range(n1):\n",
    "    P2t1__[j] = P2t1_[9][j].rstrip(') ')\n",
    "P2t1 = P2t1__.reshape(n1,1)\n",
    "Maxof0 = Maxof0__.reshape(n1,1)\n",
    "\n",
    "\n",
    "#DoS = DoS(Maxof0,Maxof1,Maxof2,LastProb0,LastProb1,LastProb2,P1t0,P2t0,P0t1,P2t1)\n",
    "#print(np.shape(DoS))\n",
    "#print(DoS)\n",
    "\n",
    "fig,ax = plt.subplots()\n",
    "\n",
    "DoS = [0.662131,0.686000,0.645508,0.673400,0.714672,0.700270,0.713553,0.661235,0.724991,0.725636,0.754457,0.742440,0.752565,0.781405,0.846445,0.827519,0.889045,0.950763,0.968078,0.940943]\n",
    "x1 = np.arange(20,0,-1)\n",
    "x2 = np.arange(1,20.5,1)\n",
    "x = np.divide(x1, x2)\n",
    "DoS_list = list()\n",
    "#ax.plot(x[0:19], (DoS[0:19]-0.65)/(1-0.65))\n",
    "ax.plot(x[:19],(np.add(DoS[:19],-0.65))/(1-0.65))\n",
    "print(np.shape(x[:19]))\n",
    "ax.set_xscale(\"log\")\n",
    "plt.xlabel(\"$E^{\\mathrm{adh}}_{\\mathrm{fil-fil}}\\ /\\ E^{\\mathrm{adh}}_{\\mathrm{fil-mem}}$\", fontsize = 17) \n",
    "plt.ylabel(\"DoS\", fontsize = 15)  \n",
    "plt.yticks([0,.25,.50,.75,1.00],size = 15)\n",
    "plt.xticks([0.1,1,10],['0.1','1.0','10'],size = 15)\n",
    "#print(\n",
    "plt.gcf().subplots_adjust(left=0.15)\n",
    "plt.gcf().subplots_adjust(bottom=0.18)\n",
    "plt.show()\n",
    "fname  = 'BindSplit.pdf'\n",
    "#fig.savefig(datadir+'Plots/'+fname)"
   ]
  },
  {
   "cell_type": "code",
   "execution_count": null,
   "metadata": {},
   "outputs": [],
   "source": []
  }
 ],
 "metadata": {
  "kernelspec": {
   "display_name": "Python 3",
   "language": "python",
   "name": "python3"
  },
  "language_info": {
   "codemirror_mode": {
    "name": "ipython",
    "version": 3
   },
   "file_extension": ".py",
   "mimetype": "text/x-python",
   "name": "python",
   "nbconvert_exporter": "python",
   "pygments_lexer": "ipython3",
   "version": "3.8.5"
  }
 },
 "nbformat": 4,
 "nbformat_minor": 4
}
