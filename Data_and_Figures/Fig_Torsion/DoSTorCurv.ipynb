{
 "cells": [
  {
   "cell_type": "code",
   "execution_count": 1,
   "metadata": {},
   "outputs": [],
   "source": [
    "%load_ext autoreload\n",
    "%autoreload 2\n",
    "\n",
    "import sys\n",
    "sys.path.append(\"..\")\n",
    "import pandas\n",
    "import numpy as np\n",
    "import matplotlib.pyplot as plt\n",
    "from matplotlib.ticker import FormatStrFormatter\n",
    "from matplotlib.colors import LogNorm\n",
    "import seaborn as sns\n",
    "datadir = '/Users/billiemeadowcroft/Dropbox/PhDGithub/RemoteESCRT/Data_and_Figures/Fig_Torsion/'"
   ]
  },
  {
   "cell_type": "code",
   "execution_count": 2,
   "metadata": {},
   "outputs": [
    {
     "name": "stderr",
     "output_type": "stream",
     "text": [
      "/var/folders/wt/4tgp65891vd4l6wskkxdnvk40000gn/T/ipykernel_5686/1970727493.py:3: FutureWarning: Calling a ufunc on non-aligned DataFrames (or DataFrame/Series combination). Currently, the indices are ignored and the result takes the index/columns of the first DataFrame. In the future , the DataFrames/Series will be aligned before applying the ufunc.\n",
      "Convert one of the arguments to a NumPy array (eg 'ufunc(df1, np.asarray(df2)') to keep the current behaviour, or align manually (eg 'df1, df2 = df1.align(df2)') before passing to the ufunc to obtain the future behaviour and silence this warning.\n",
      "  thing1 = np.add(np.divide(P1t0,Maxof0), np.divide(P2t0,Maxof0))\n",
      "/var/folders/wt/4tgp65891vd4l6wskkxdnvk40000gn/T/ipykernel_5686/1970727493.py:4: FutureWarning: Calling a ufunc on non-aligned DataFrames (or DataFrame/Series combination). Currently, the indices are ignored and the result takes the index/columns of the first DataFrame. In the future , the DataFrames/Series will be aligned before applying the ufunc.\n",
      "Convert one of the arguments to a NumPy array (eg 'ufunc(df1, np.asarray(df2)') to keep the current behaviour, or align manually (eg 'df1, df2 = df1.align(df2)') before passing to the ufunc to obtain the future behaviour and silence this warning.\n",
      "  thing2 = np.add(np.divide(P0t1,Maxof1),np.divide(P2t1,Maxof1))\n",
      "/var/folders/wt/4tgp65891vd4l6wskkxdnvk40000gn/T/ipykernel_5686/1970727493.py:5: FutureWarning: Calling a ufunc on non-aligned DataFrames (or DataFrame/Series combination). Currently, the indices are ignored and the result takes the index/columns of the first DataFrame. In the future , the DataFrames/Series will be aligned before applying the ufunc.\n",
      "Convert one of the arguments to a NumPy array (eg 'ufunc(df1, np.asarray(df2)') to keep the current behaviour, or align manually (eg 'df1, df2 = df1.align(df2)') before passing to the ufunc to obtain the future behaviour and silence this warning.\n",
      "  firstT = np.add(thing1,thing2)\n",
      "/var/folders/wt/4tgp65891vd4l6wskkxdnvk40000gn/T/ipykernel_5686/1970727493.py:6: FutureWarning: Calling a ufunc on non-aligned DataFrames (or DataFrame/Series combination). Currently, the indices are ignored and the result takes the index/columns of the first DataFrame. In the future , the DataFrames/Series will be aligned before applying the ufunc.\n",
      "Convert one of the arguments to a NumPy array (eg 'ufunc(df1, np.asarray(df2)') to keep the current behaviour, or align manually (eg 'df1, df2 = df1.align(df2)') before passing to the ufunc to obtain the future behaviour and silence this warning.\n",
      "  secondT = 2*np.add(np.divide(LastProb0,Maxof0),np.divide(LastProb1,Maxof1))\n",
      "/var/folders/wt/4tgp65891vd4l6wskkxdnvk40000gn/T/ipykernel_5686/1970727493.py:7: FutureWarning: Calling a ufunc on non-aligned DataFrames (or DataFrame/Series combination). Currently, the indices are ignored and the result takes the index/columns of the first DataFrame. In the future , the DataFrames/Series will be aligned before applying the ufunc.\n",
      "Convert one of the arguments to a NumPy array (eg 'ufunc(df1, np.asarray(df2)') to keep the current behaviour, or align manually (eg 'df1, df2 = df1.align(df2)') before passing to the ufunc to obtain the future behaviour and silence this warning.\n",
      "  thing4 = np.add(np.divide(Maxof0,Maxof2),np.divide(Maxof1,Maxof2))\n",
      "/var/folders/wt/4tgp65891vd4l6wskkxdnvk40000gn/T/ipykernel_5686/1970727493.py:9: FutureWarning: Calling a ufunc on non-aligned DataFrames (or DataFrame/Series combination). Currently, the indices are ignored and the result takes the index/columns of the first DataFrame. In the future , the DataFrames/Series will be aligned before applying the ufunc.\n",
      "Convert one of the arguments to a NumPy array (eg 'ufunc(df1, np.asarray(df2)') to keep the current behaviour, or align manually (eg 'df1, df2 = df1.align(df2)') before passing to the ufunc to obtain the future behaviour and silence this warning.\n",
      "  fourthT = np.add(1,-np.divide(LastProb2,Maxof2))\n",
      "/var/folders/wt/4tgp65891vd4l6wskkxdnvk40000gn/T/ipykernel_5686/1970727493.py:10: FutureWarning: Calling a ufunc on non-aligned DataFrames (or DataFrame/Series combination). Currently, the indices are ignored and the result takes the index/columns of the first DataFrame. In the future , the DataFrames/Series will be aligned before applying the ufunc.\n",
      "Convert one of the arguments to a NumPy array (eg 'ufunc(df1, np.asarray(df2)') to keep the current behaviour, or align manually (eg 'df1, df2 = df1.align(df2)') before passing to the ufunc to obtain the future behaviour and silence this warning.\n",
      "  thing5add4 = np.add(fourthT,thirdT)\n",
      "/var/folders/wt/4tgp65891vd4l6wskkxdnvk40000gn/T/ipykernel_5686/1970727493.py:11: FutureWarning: Calling a ufunc on non-aligned DataFrames (or DataFrame/Series combination). Currently, the indices are ignored and the result takes the index/columns of the first DataFrame. In the future , the DataFrames/Series will be aligned before applying the ufunc.\n",
      "Convert one of the arguments to a NumPy array (eg 'ufunc(df1, np.asarray(df2)') to keep the current behaviour, or align manually (eg 'df1, df2 = df1.align(df2)') before passing to the ufunc to obtain the future behaviour and silence this warning.\n",
      "  lastTs = np.add(thing5add4,secondT)\n",
      "/var/folders/wt/4tgp65891vd4l6wskkxdnvk40000gn/T/ipykernel_5686/1970727493.py:12: FutureWarning: Calling a ufunc on non-aligned DataFrames (or DataFrame/Series combination). Currently, the indices are ignored and the result takes the index/columns of the first DataFrame. In the future , the DataFrames/Series will be aligned before applying the ufunc.\n",
      "Convert one of the arguments to a NumPy array (eg 'ufunc(df1, np.asarray(df2)') to keep the current behaviour, or align manually (eg 'df1, df2 = df1.align(df2)') before passing to the ufunc to obtain the future behaviour and silence this warning.\n",
      "  DoS_ = (1/10)*(np.add(firstT,lastTs))\n"
     ]
    },
    {
     "data": {
      "image/png": "[encoded data removed]",
      "text/plain": [
       "<Figure size 432x288 with 2 Axes>"
      ]
     },
     "metadata": {},
     "output_type": "display_data"
    }
   ],
   "source": [
    "def DoS(Maxof0,Maxof1,Maxof2,LastProb0,LastProb1,LastProb2,P1t0,P2t0,P0t1,P2t1,Kd1s,Kd2s):\n",
    "   #Defining our DoS parameter\n",
    "    thing1 = np.add(np.divide(P1t0,Maxof0), np.divide(P2t0,Maxof0))\n",
    "    thing2 = np.add(np.divide(P0t1,Maxof1),np.divide(P2t1,Maxof1))\n",
    "    firstT = np.add(thing1,thing2)\n",
    "    secondT = 2*np.add(np.divide(LastProb0,Maxof0),np.divide(LastProb1,Maxof1))\n",
    "    thing4 = np.add(np.divide(Maxof0,Maxof2),np.divide(Maxof1,Maxof2))\n",
    "    thirdT = (1/2)*abs(np.add(2,-thing4))\n",
    "    fourthT = np.add(1,-np.divide(LastProb2,Maxof2))\n",
    "    thing5add4 = np.add(fourthT,thirdT)\n",
    "    lastTs = np.add(thing5add4,secondT)\n",
    "    DoS_ = (1/10)*(np.add(firstT,lastTs))\n",
    "    \n",
    "    DoS = np.divide(1,DoS_)\n",
    "    DoS_arr= DoS.values.reshape(Kd1s,Kd2s)\n",
    "    \n",
    "    return DoS_arr/2.1\n",
    "\n",
    "\n",
    "loc = datadir +'TorsionV2CharCrvT'\n",
    "n1 = 100\n",
    "k1= 10\n",
    "k2= 10\n",
    "Maxof0_ = pandas.read_csv(loc + \".txt\", header = None, sep=',', usecols= [0])#.lstrip('(')#.rstrip(']')\n",
    "Maxof0__ = np.zeros(n1)\n",
    "for i in range(n1):\n",
    "    Maxof0__[i] = Maxof0_[0][i].lstrip('(')\n",
    "Maxof0 = Maxof0__\n",
    "Maxof1 = pandas.read_csv(loc + \".txt\", header = None, sep=',', usecols= [1])\n",
    "Maxof2 = pandas.read_csv(loc + \".txt\", header = None, sep=',', usecols= [2])\n",
    "LastProb0 = pandas.read_csv(loc + \".txt\", header = None, sep=',', usecols= [3])\n",
    "LastProb1 = pandas.read_csv(loc + \".txt\", header = None, sep=',', usecols= [4])\n",
    "LastProb2 = pandas.read_csv(loc + \".txt\", header = None, sep=',', usecols= [5])\n",
    "P1t0 = pandas.read_csv(loc + \".txt\", header = None, sep=',', usecols= [6])\n",
    "P2t0 = pandas.read_csv(loc + \".txt\", header = None, sep=',', usecols= [7])\n",
    "P0t1 = pandas.read_csv(loc + \".txt\", header = None, sep=',', usecols= [8])\n",
    "P2t1_ = pandas.read_csv(loc + \".txt\", header = None, sep=',', usecols= [9])\n",
    "P2t1__ = np.zeros(n1)\n",
    "for j in range(n1):\n",
    "    P2t1__[j] = P2t1_[9][j].rstrip(') ')\n",
    "P2t1 = P2t1__.reshape(n1,1)\n",
    "Maxof0 = Maxof0__.reshape(n1,1)\n",
    "\n",
    "DoS = DoS(Maxof0,Maxof1,Maxof2,LastProb0,LastProb1,LastProb2,P1t0,P2t0,P0t1,P2t1,k1,k2)\n",
    "y = np.arange(0.01,1.01, 0.1)\n",
    "x = np.arange(9.0,0.90,-0.90)\n",
    "\n",
    "#ktFactor = i*0.1+0.01\n",
    "#Curve1 = Curve0 + 1.5 - j*0.15\n",
    "#Curve2 = Curve0 + 7.0 - j*0.70\n",
    "\n",
    "X=np.round(x,1)\n",
    "Y=np.round(y,1)\n",
    "sns.set(font_scale=1.4)\n",
    "\n",
    "fig,ax = plt.subplots()\n",
    "sns.heatmap(DoS,xticklabels=X, yticklabels=Y,ax = ax,cmap=\"PuBuGn\",cbar_kws={'label': 'DoS'},vmin=0.5, vmax=1)\n",
    "ax.invert_yaxis()\n",
    "ax.set_ylabel(\"$\\kappa_{\\mathrm{tors}}/ \\kappa_{\\mathrm{bend}}$\", fontsize = 20)\n",
    "ax.set_xlabel(\"$c_{2}-c_{0}$\", fontsize = 20)\n",
    "#ax.set_title(\"Torsion and curvature differences\")\n",
    "n=2\n",
    "[l.set_visible(False) for (i,l) in enumerate(ax.yaxis.get_ticklabels()) if i % n != 0]\n",
    "[l.set_visible(False) for (i,l) in enumerate(ax.xaxis.get_ticklabels()) if i % n != 0]\n",
    "plt.gcf().subplots_adjust(bottom=0.2)\n",
    "\n",
    "fname  = 'DosTorsionV2.pdf'\n",
    "#fig.savefig('Plots/'+fname)\n"
   ]
  },
  {
   "cell_type": "code",
   "execution_count": null,
   "metadata": {},
   "outputs": [],
   "source": []
  }
 ],
 "metadata": {
  "kernelspec": {
   "display_name": "Python 3",
   "language": "python",
   "name": "python3"
  },
  "language_info": {
   "codemirror_mode": {
    "name": "ipython",
    "version": 3
   },
   "file_extension": ".py",
   "mimetype": "text/x-python",
   "name": "python",
   "nbconvert_exporter": "python",
   "pygments_lexer": "ipython3",
   "version": "3.8.5"
  }
 },
 "nbformat": 4,
 "nbformat_minor": 4
}
