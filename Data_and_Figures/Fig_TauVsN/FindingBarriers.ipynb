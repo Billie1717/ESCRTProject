{
 "cells": [
  {
   "cell_type": "code",
   "execution_count": 2,
   "metadata": {},
   "outputs": [],
   "source": [
    "import numpy as np\n",
    "import matplotlib.pyplot as plt"
   ]
  },
  {
   "cell_type": "code",
   "execution_count": 3,
   "metadata": {},
   "outputs": [
    {
     "name": "stdout",
     "output_type": "stream",
     "text": [
      "[0.5839147347164464, 10.091757416895755]\n",
      "max: 11.538368568016267 min: -33.077174510421585 barrier: 44.61554307843785\n",
      "max: -8.927932862954549 min: -14.529100972301237 barrier: 5.601168109346688\n",
      "max: 0.0 min: -5.628306193898435 barrier: 5.628306193898435\n",
      "barrier only 2s: 44.61554307843785 barrier only 1s: 5.628306193898435 barrier of 2s with full 1 coverage: 5.601168109346688\n"
     ]
    },
    {
     "data": {
      "text/plain": [
       "<matplotlib.legend.Legend at 0x7fdacc2abe50>"
      ]
     },
     "execution_count": 3,
     "metadata": {},
     "output_type": "execute_result"
    },
    {
     "data": {
      "image/png": "[encoded data removed]",
      "text/plain": [
       "<Figure size 432x288 with 1 Axes>"
      ]
     },
     "metadata": {
      "needs_background": "light"
     },
     "output_type": "display_data"
    }
   ],
   "source": [
    "fig,ax= plt.subplots()\n",
    "kmem = 20\n",
    "def memBend(p,r):\n",
    "    P = np.average(p)\n",
    "    R = np.average(r)\n",
    "    denom = R**2+P**2\n",
    "    numon = np.pi*kmem*8*(P**2)\n",
    "    Em = np.divide(numon,denom)\n",
    "    if R<P:\n",
    "        Em += np.pi*kmem*(np.divide(P,R) - 1)\n",
    "    \n",
    "    return Em\n",
    "\n",
    "nummons = 40\n",
    "radius = [9.06,6.25] #r=[20,9.06,6.25,6.25]\n",
    "pitch = [2,10.15] #p=[0.1,2,10.15,75]\n",
    "Ebind = [memBend(pitch[0],radius[0])/40,memBend(pitch[1],radius[1])/40]\n",
    "print(Ebind)\n",
    "Etot = np.zeros((nummons,nummons))\n",
    "ipArr = np.zeros((nummons,nummons,2))#mon by mon array for 2 monomer types\n",
    "Ps2 = []\n",
    "Ps1 = []\n",
    "\n",
    "for ip1 in range(nummons):\n",
    "    for ip2 in range(nummons):\n",
    "        ip = [ip1,ip2]\n",
    "        totmons = ip1 + ip2\n",
    "        Perc_mons = np.divide(ip,nummons)\n",
    "        if ip1 ==0 and ip2 == 0:\n",
    "            Etot[ip1,ip2] = 0\n",
    "        else:\n",
    "            Frac_mons = np.divide(ip,totmons)\n",
    "            p = np.multiply(pitch, Perc_mons)\n",
    "            r = np.multiply(radius, Frac_mons)\n",
    "            Eb = np.multiply(ip,Ebind)\n",
    "            Etot[ip1,ip2] = memBend(p,r)-Eb[0]-Eb[1]\n",
    "        ipArr[ip1,ip2] = ip\n",
    "        \n",
    "x = np.arange(0,40,1)*100/40\n",
    "\n",
    "ax.plot(Etot[0,:], label = 'ip1 = 0')\n",
    "ax.plot(Etot[:,0], label = 'ip2 = 0')\n",
    "ax.plot(Etot[39,:], label = 'ip1 = 40')\n",
    "\n",
    "maxi_ip1_0 = max(Etot[0,:])\n",
    "mini_ip1_0 = min(Etot[0,0:10])\n",
    "print('max:',maxi_ip1_0,'min:',mini_ip1_0,'barrier:',maxi_ip1_0-mini_ip1_0)\n",
    "\n",
    "maxi_ip1_39 = max(Etot[39,10:25]) #first 2 Etot[39,:], second Etot[39,10:25]\n",
    "mini_ip1_39 = min(Etot[39,:10]) #first 2 Etot[39,:5], second Etot[39,:10]\n",
    "#print(Etot[:,0])\n",
    "print('max:',maxi_ip1_39,'min:',mini_ip1_39,'barrier:',maxi_ip1_39-mini_ip1_39)\n",
    "\n",
    "maxi_ip2_0 = max(Etot[:,0])\n",
    "mini_ip2_0 = min(Etot[0:25,0]) #first 2 Etot[0:20,0], second 2 Etot[0:25,0]\n",
    "print('max:',maxi_ip2_0,'min:',mini_ip2_0,'barrier:',maxi_ip2_0-mini_ip2_0)\n",
    "\n",
    "barrier0 = maxi_ip1_0-mini_ip1_0\n",
    "barrier1 = maxi_ip2_0-mini_ip2_0\n",
    "barrier2 = maxi_ip1_39-mini_ip1_39\n",
    "print('barrier only 2s:',barrier0,'barrier only 1s:',barrier1,'barrier of 2s with full 1 coverage:', barrier2)\n",
    "ax.legend()"
   ]
  },
  {
   "cell_type": "code",
   "execution_count": null,
   "metadata": {},
   "outputs": [],
   "source": [
    "-31.126315932382454 -21.584165709858325\n",
    "barrier 1: 281.008909439391 barrier 2: 44.61554307843785 barrier 3: -9.542150222524128"
   ]
  }
 ],
 "metadata": {
  "kernelspec": {
   "display_name": "Python 3",
   "language": "python",
   "name": "python3"
  },
  "language_info": {
   "codemirror_mode": {
    "name": "ipython",
    "version": 3
   },
   "file_extension": ".py",
   "mimetype": "text/x-python",
   "name": "python",
   "nbconvert_exporter": "python",
   "pygments_lexer": "ipython3",
   "version": "3.8.5"
  }
 },
 "nbformat": 4,
 "nbformat_minor": 4
}
