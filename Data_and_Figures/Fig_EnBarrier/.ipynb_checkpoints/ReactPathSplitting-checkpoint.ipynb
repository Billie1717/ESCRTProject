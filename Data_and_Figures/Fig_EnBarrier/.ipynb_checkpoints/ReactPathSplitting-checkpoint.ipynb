{
 "cells": [
  {
   "cell_type": "code",
   "execution_count": 9,
   "metadata": {},
   "outputs": [
    {
     "name": "stdout",
     "output_type": "stream",
     "text": [
      "The autoreload extension is already loaded. To reload it, use:\n",
      "  %reload_ext autoreload\n"
     ]
    }
   ],
   "source": [
    "%load_ext autoreload\n",
    "%autoreload 2\n",
    "\n",
    "import sys\n",
    "sys.path.append(\"..\")\n",
    "import pandas\n",
    "import numpy as np\n",
    "import matplotlib.pyplot as plt\n",
    "import seaborn as sns\n",
    "from matplotlib.colors import TwoSlopeNorm\n",
    "import math\n",
    "#sns.set(font_scale=1.3)\n",
    "N=42\n",
    "\n",
    "datadir = '/Users/billiemeadowcroft/Dropbox/PhDGithub/RemoteESCRT/Data_and_Figures/Fig_EnBarrier/Data/'\n",
    "loc2 = datadir\n",
    "EntList = pandas.read_csv(datadir + \"Entrop02.txt\", header = None, sep=' ')#[0]\n",
    "Entropy = EntList.values.reshape(N-1,N-1)\n",
    "\n",
    "def ActualReactPath(P1, P2,q, Farr2):\n",
    "    ReactPath2 = np.zeros((N-1,N-1))\n",
    "    for i in range(q):\n",
    "        Farr2[int(P1[i]),int(P2[i])] = None\n",
    "        \n",
    "    return Farr2"
   ]
  },
  {
   "cell_type": "code",
   "execution_count": 11,
   "metadata": {},
   "outputs": [
    {
     "name": "stdout",
     "output_type": "stream",
     "text": [
      "5.025005660066008\n",
      "-63.73333333336911\n"
     ]
    },
    {
     "name": "stderr",
     "output_type": "stream",
     "text": [
      "posx and posy should be finite values\n"
     ]
    },
    {
     "data": {
      "image/png": "[encoded data removed]",
      "text/plain": [
       "<Figure size 432x288 with 2 Axes>"
      ]
     },
     "metadata": {},
     "output_type": "display_data"
    }
   ],
   "source": [
    "#EList = pandas.read_csv(loc2 + \"TEST03subs_50_150.txt\", sep=' ', header = None, skiprows = 1)#[0]\n",
    "namedat1 = 'bigspaceTest1_'\n",
    "namedat = 'smolspaceTest1_'\n",
    "EList = pandas.read_csv(loc2 + namedat1 +\"103subs_100_300.txt\", sep=' ', header = None, skiprows = 1)#[0]\n",
    "P0= pandas.read_csv(loc2 + namedat1 +\"Prob0.txt\", header = None, sep=' ')[0]\n",
    "P1= pandas.read_csv(loc2 + namedat1 +\"Prob1.txt\", header = None, sep=' ')[0]\n",
    "P2 = pandas.read_csv(loc2 + namedat1 +\"Prob2.txt\", header = None, sep=' ')[0]\n",
    "q = len(P0)\n",
    "print(np.average(P0[0:int(q)]))\n",
    "P1round = np.round(P1,0)\n",
    "P2round = np.round(P2,0)\n",
    "N=42\n",
    "\n",
    "Earr_ = EList.values.reshape(N,N)\n",
    "Earr = (Earr_.T)*(20/2.5)\n",
    "print(Earr[0,0])\n",
    "#Farr = np.add(Earr*10,Entropy)\n",
    "x1 = np.arange(0,N-2,1)*(100/N)\n",
    "y1 = np.arange(1,N-10,1)*(100/N)\n",
    "X = [math.trunc(i) for i in x1]\n",
    "Y = [math.trunc(i) for i in y1]\n",
    "\n",
    "#fig, ax = plt.subplots()\n",
    "cmaps = [\"PRGn\", \"viridis\", \"magma\"]\n",
    "#plt.gcf().subplots_adjust(left=0.2)\n",
    "#plt.gcf().subplots_adjust(bottom=0.25)\n",
    "fig2, ax2  = plt.subplots()\n",
    "plt.gcf().subplots_adjust(left=0.2)\n",
    "plt.gcf().subplots_adjust(bottom=0.25)\n",
    "sns.set(font_scale=1.3)\n",
    "\n",
    "#divnorm2 = TwoSlopeNorm(vmin=(Earr[:N-10,:N-2]).min(), vcenter=0,vmax=(Earr[:N-10,:N-12]).max())\n",
    "divnorm2 = TwoSlopeNorm(vmin=(Earr[:N-10,:N-2]).min(), vcenter=-120,vmax=-75) #vcenter=-120\n",
    "#divnorm2 = TwoSlopeNorm(vmin=-1000, vcenter=-120,vmax=-75)\n",
    "#divnorm2 = TwoSlopeNorm(vmin=-1000,vcenter = -120)\n",
    "\n",
    "g=sns.heatmap(ActualReactPath(P1,P2,q, Earr)[1:N-10,:N-2],ax = ax2,xticklabels=X, yticklabels=Y[1:], cmap=cmaps[0], norm=divnorm2, cbar=True, cbar_kws={'label': 'Energy [$k_{B}T$]'})\n",
    "#g=sns.heatmap(ActualReactPath(P1,P2,q, Earr)[1:N-10,:N-2],ax = ax2,xticklabels=X, yticklabels=Y, cmap=\"PRGn\", norm=divnorm2, cbar=True, cbar_kws={'label': 'Energy [$k_{B}T$]'})\n",
    "g.set_facecolor('darkorange')\n",
    "ax2.invert_yaxis()\n",
    "#ax.set_xlabel(\"% occupation of 2s\", fontsize = 15) \n",
    "#ax.set_ylabel(\"% occupation of 1s\", fontsize = 15) \n",
    "ax2.set_xlabel(\"% monomer 2\", fontsize = 15) \n",
    "ax2.set_ylabel(\"% monomer 1\", fontsize = 15) \n",
    "#ax.set_title(\"$<E>$\")\n",
    "n = 5  # Keeps every nth label\n",
    "[l.set_visible(False) for (i,l) in enumerate(ax2.yaxis.get_ticklabels()) if i % n != 0]\n",
    "[l.set_visible(False) for (i,l) in enumerate(ax2.xaxis.get_ticklabels()) if i % n != 0]\n",
    "#ax2.legend()\n",
    "plt.xticks(size = 13)\n",
    "plt.yticks(size = 15)\n",
    "#print(np.shape(X),np.shape(Y), np.shape(ActualReactPath(P1,P2,q, Earr)[1:N-10,:N-2]))\n",
    "plt.show()\n",
    "#fname2  = 'BarrierHeat_cor_10_0s_badcbar.pdf'\n",
    "#fig2.savefig(plotsdir+fname2)"
   ]
  },
  {
   "cell_type": "code",
   "execution_count": null,
   "metadata": {},
   "outputs": [],
   "source": []
  }
 ],
 "metadata": {
  "kernelspec": {
   "display_name": "Python 3",
   "language": "python",
   "name": "python3"
  },
  "language_info": {
   "codemirror_mode": {
    "name": "ipython",
    "version": 3
   },
   "file_extension": ".py",
   "mimetype": "text/x-python",
   "name": "python",
   "nbconvert_exporter": "python",
   "pygments_lexer": "ipython3",
   "version": "3.8.5"
  }
 },
 "nbformat": 4,
 "nbformat_minor": 4
}
